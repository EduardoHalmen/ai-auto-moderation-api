{
 "cells": [
  {
   "cell_type": "markdown",
   "id": "38089f1f",
   "metadata": {},
   "source": [
    "# Introduction\n",
    "\n",
    "This notebook explores comments variation based on toxicity score. In the Jigsaw Unintended Bias Dataset, a comment toxicity value is basically a probability score calculated as the average annotator perception that the specific comment is toxic.\n",
    "\n",
    "TODO:\n",
    "Research questions I hope to answer in this notebook:\\\n",
    "Do comments with toxicity score above 0.5"
   ]
  },
  {
   "cell_type": "markdown",
   "id": "977372d5",
   "metadata": {},
   "source": [
    "### Imports"
   ]
  },
  {
   "cell_type": "code",
   "execution_count": 1,
   "id": "75e78dfd",
   "metadata": {},
   "outputs": [],
   "source": [
    "import pandas as pd\n",
    "import numpy as np\n",
    "import os"
   ]
  },
  {
   "cell_type": "markdown",
   "id": "43d8c83c",
   "metadata": {},
   "source": [
    "### Data"
   ]
  },
  {
   "cell_type": "code",
   "execution_count": 2,
   "id": "f0749f7f",
   "metadata": {},
   "outputs": [],
   "source": [
    "data_path = '../../data/'\n",
    "df = pd.read_csv(os.path.join(data_path, 'train.csv')).rename(columns={'target': 'toxicity'})"
   ]
  },
  {
   "cell_type": "markdown",
   "id": "5b6e500a",
   "metadata": {},
   "source": [
    "# Comments"
   ]
  },
  {
   "cell_type": "code",
   "execution_count": 3,
   "id": "2fd536d9",
   "metadata": {},
   "outputs": [],
   "source": [
    "main_indicators = [\n",
    "    'toxicity', \n",
    "    'severe_toxicity', \n",
    "    'obscene', \n",
    "    'identity_attack', \n",
    "    'insult', \n",
    "    'threat', \n",
    "    'sexual_explicit'\n",
    "]\n",
    "\n",
    "main_identities = [\n",
    "    'male', \n",
    "    'female', \n",
    "    'homosexual_gay_or_lesbian',\n",
    "    'christian', 'jewish', \n",
    "    'muslim', \n",
    "    'white', \n",
    "    'black',\n",
    "    'psychiatric_or_mental_illness'\n",
    "]\n",
    "\n",
    "RANDOM_STATE = 42"
   ]
  },
  {
   "cell_type": "code",
   "execution_count": 4,
   "id": "530db107",
   "metadata": {},
   "outputs": [],
   "source": [
    "def save_short_comments_in_toxicity_range(\n",
    "    df, \n",
    "    toxicity_min=0.0, \n",
    "    toxicity_max=0.2, \n",
    "    n=50, \n",
    "    max_len=300, \n",
    "    filename=\"short_comments.txt\"\n",
    "):\n",
    "    \"\"\"\n",
    "    Save n random short comments (length <= max_len) within a specified toxicity range to a text file.\n",
    "    \"\"\"\n",
    "    mask = (\n",
    "        (df['toxicity'] >= toxicity_min) &\n",
    "        (df['toxicity'] < toxicity_max) &\n",
    "        (df['comment_text'].str.len() <= max_len)\n",
    "    )\n",
    "    cols = ['id', 'toxicity', 'comment_text'] if 'id' in df.columns else ['toxicity', 'comment_text']\n",
    "    sample = df.loc[mask, cols].sample(n=min(n, mask.sum()), random_state=RANDOM_STATE)\n",
    "    \n",
    "    with open(filename, \"w\", encoding=\"utf-8\") as f:\n",
    "        for idx, row in sample.iterrows():\n",
    "            if 'id' in row:\n",
    "                f.write(f\"\\nID: {row['id']}\\n\")\n",
    "            f.write(f\"Toxicity: {row['toxicity']:.2f}\\n\")\n",
    "            f.write(\"-\" * 40 + \"\\n\")\n",
    "            f.write(row['comment_text'] + \"\\n\")\n",
    "            f.write(\"-\" * 40 + \"\\n\")\n",
    "\n",
    "    print(f\"Saved {len(sample)} comments to {filename}\")"
   ]
  },
  {
   "cell_type": "code",
   "execution_count": 5,
   "id": "d5419edc",
   "metadata": {},
   "outputs": [],
   "source": [
    "#save_short_comments_in_toxicity_range(df, toxicity_min=0.3, toxicity_max=0.4, n=100, max_len=250, filename=\"toxicity_0.3_0.4.txt\")\n",
    "#save_short_comments_in_toxicity_range(df, toxicity_min=0.4, toxicity_max=0.5, n=100, max_len=250, filename=\"toxicity_0.4_0.5.txt\")\n",
    "#save_short_comments_in_toxicity_range(df, toxicity_min=0.5, toxicity_max=0.6, n=100, max_len=250, filename=\"toxicity_0.5_0.6.txt\")"
   ]
  }
 ],
 "metadata": {
  "kernelspec": {
   "display_name": "venv",
   "language": "python",
   "name": "python3"
  },
  "language_info": {
   "codemirror_mode": {
    "name": "ipython",
    "version": 3
   },
   "file_extension": ".py",
   "mimetype": "text/x-python",
   "name": "python",
   "nbconvert_exporter": "python",
   "pygments_lexer": "ipython3",
   "version": "3.12.9"
  }
 },
 "nbformat": 4,
 "nbformat_minor": 5
}
